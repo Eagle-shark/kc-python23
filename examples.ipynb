{
 "cells": [
  {
   "cell_type": "markdown",
   "metadata": {},
   "source": [
    "# Square Root - Bisection Search\n",
    "This program will find the square root of a number using the bisection search, it also demonstrates\n",
    "the use of a function (squareRoot())"
   ]
  },
  {
   "cell_type": "code",
   "execution_count": 1,
   "metadata": {},
   "outputs": [
    {
     "name": "stdout",
     "output_type": "stream",
     "text": [
      "The square root of 10.0 is approximately 3.162277660168229\n"
     ]
    }
   ],
   "source": [
    "def squareRoot(x, epsilon):\n",
    "    low = 0.0\n",
    "    high = max(1.0, x)\n",
    "    ans = (high + low) / 2.0\n",
    "    while abs(ans**2 - x) >= epsilon:\n",
    "        if ans**2 < x:\n",
    "            low = ans\n",
    "        else:\n",
    "            high = ans\n",
    "        ans = (high + low) / 2.0\n",
    "    return ans\n",
    "\n",
    "x = float(input(\"Enter a number: \"))\n",
    "epsilon = 0.000000000001\n",
    "print(\"The square root of\", x, \"is approximately\", squareRoot(x, epsilon))"
   ]
  },
  {
   "cell_type": "markdown",
   "metadata": {},
   "source": [
    "# Guess a number Program\n",
    "This program will have the computer guess the number that you are thinking of between 0 and 100"
   ]
  },
  {
   "cell_type": "code",
   "execution_count": 5,
   "metadata": {},
   "outputs": [
    {
     "data": {
      "text/plain": [
       "5"
      ]
     },
     "execution_count": 5,
     "metadata": {},
     "output_type": "execute_result"
    }
   ],
   "source": [
    "guess=50\n",
    "numbers_guessed=0\n",
    "low = 0\n",
    "high = 101\n",
    "letter = ''\n",
    "print('What is your number between 0 and 100?')\n",
    "while letter!='e':\n",
    "    print(f'The computer guesses {guess} the high is {high} the low is {low}')\n",
    "    letter=input(f'Higher, lower or exactly (h,l,e): ')\n",
    "    numbers_guessed += 1\n",
    "    if letter=='h':\n",
    "        low = guess\n",
    "    elif letter=='l':\n",
    "        high = guess\n",
    "    elif letter=='e':\n",
    "        print('Your number is:', guess,'The computer took', numbers_guessed, \n",
    "              'guess' if numbers_guessed == 1 else 'guesses')\n",
    "    guess = int((high+low)/2)"
   ]
  },
  {
   "cell_type": "code",
   "execution_count": 6,
   "metadata": {},
   "outputs": [
    {
     "name": "stdout",
     "output_type": "stream",
     "text": [
      "The egg was dropped from 51\n",
      "High: 102 low: 1 floor: 51\n",
      "The egg was dropped from 26\n",
      "High: 51 low: 1 floor: 26\n",
      "The egg was dropped from 13\n",
      "High: 26 low: 1 floor: 13\n",
      "The egg was dropped from 7\n",
      "High: 13 low: 1 floor: 7\n",
      "The egg was dropped from 4\n",
      "High: 7 low: 1 floor: 4\n",
      "The egg was dropped from 5\n",
      "High: 7 low: 4 floor: 5\n"
     ]
    }
   ],
   "source": [
    "high = 102\n",
    "low = 1\n",
    "floor = int((high + low)/2)\n",
    "broken = ''\n",
    "while broken.lower() != 'n':\n",
    "    print(f'The egg was dropped from {floor}')\n",
    "    print(f'High: {high} low: {low} floor: {floor}')\n",
    "    broken = input('Did it break? >')\n",
    "    if broken.lower() == 'y':\n",
    "        high = floor\n",
    "    else:\n",
    "        low = floor\n",
    "    floor = int((high + low)/2)\n"
   ]
  },
  {
   "cell_type": "code",
   "execution_count": 2,
   "metadata": {},
   "outputs": [
    {
     "data": {
      "text/plain": [
       "3.1622776601683795"
      ]
     },
     "execution_count": 2,
     "metadata": {},
     "output_type": "execute_result"
    }
   ],
   "source": [
    "10**0.5"
   ]
  },
  {
   "cell_type": "code",
   "execution_count": 3,
   "metadata": {},
   "outputs": [
    {
     "data": {
      "text/plain": [
       "2.449493408203125"
      ]
     },
     "execution_count": 3,
     "metadata": {},
     "output_type": "execute_result"
    }
   ],
   "source": [
    "squareRoot(6, 0.0001)"
   ]
  },
  {
   "cell_type": "code",
   "execution_count": 4,
   "metadata": {},
   "outputs": [],
   "source": [
    "def AddOne(x):\n",
    "    return x + 1"
   ]
  },
  {
   "cell_type": "code",
   "execution_count": 5,
   "metadata": {},
   "outputs": [
    {
     "data": {
      "text/plain": [
       "3"
      ]
     },
     "execution_count": 5,
     "metadata": {},
     "output_type": "execute_result"
    }
   ],
   "source": [
    "AddOne(2)"
   ]
  }
 ],
 "metadata": {
  "kernelspec": {
   "display_name": "Python 3",
   "language": "python",
   "name": "python3"
  },
  "language_info": {
   "codemirror_mode": {
    "name": "ipython",
    "version": 3
   },
   "file_extension": ".py",
   "mimetype": "text/x-python",
   "name": "python",
   "nbconvert_exporter": "python",
   "pygments_lexer": "ipython3",
   "version": "3.11.4"
  },
  "orig_nbformat": 4
 },
 "nbformat": 4,
 "nbformat_minor": 2
}
