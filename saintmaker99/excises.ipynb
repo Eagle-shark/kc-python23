{
 "cells": [
  {
   "cell_type": "code",
   "execution_count": 3,
   "metadata": {},
   "outputs": [
    {
     "name": "stdout",
     "output_type": "stream",
     "text": [
      "Daniel Daniel Daniel Daniel Daniel Daniel Daniel Daniel Daniel Daniel Daniel Daniel Daniel Daniel Daniel Daniel Daniel Daniel Daniel Daniel Daniel Daniel Daniel Daniel Daniel Daniel Daniel Daniel Daniel Daniel Daniel Daniel Daniel Daniel Daniel Daniel Daniel Daniel Daniel Daniel Daniel Daniel Daniel Daniel Daniel Daniel Daniel Daniel Daniel Daniel Daniel Daniel Daniel Daniel Daniel Daniel Daniel Daniel Daniel Daniel Daniel Daniel Daniel Daniel Daniel Daniel Daniel Daniel Daniel Daniel Daniel Daniel Daniel Daniel Daniel Daniel Daniel Daniel Daniel Daniel Daniel Daniel Daniel Daniel Daniel Daniel Daniel Daniel Daniel Daniel Daniel Daniel Daniel Daniel Daniel Daniel Daniel Daniel Daniel Daniel Daniel Daniel Daniel Daniel Daniel Daniel Daniel Daniel Daniel Daniel Daniel Daniel Daniel Daniel Daniel Daniel Daniel Daniel Daniel Daniel Daniel Daniel Daniel Daniel Daniel Daniel Daniel Daniel Daniel Daniel Daniel Daniel Daniel Daniel Daniel Daniel Daniel Daniel Daniel Daniel Daniel Daniel Daniel Daniel Daniel Daniel Daniel Daniel Daniel Daniel Daniel Daniel Daniel Daniel Daniel Daniel Daniel Daniel Daniel Daniel Daniel Daniel Daniel Daniel Daniel Daniel Daniel Daniel Daniel Daniel Daniel Daniel Daniel Daniel Daniel Daniel Daniel Daniel Daniel Daniel Daniel Daniel Daniel Daniel Daniel Daniel Daniel Daniel Daniel Daniel Daniel Daniel Daniel Daniel Daniel Daniel Daniel Daniel Daniel Daniel Daniel Daniel Daniel Daniel Daniel Daniel Daniel Daniel Daniel Daniel Daniel Daniel Daniel Daniel Daniel Daniel Daniel Daniel Daniel Daniel Daniel Daniel Daniel Daniel Daniel Daniel Daniel Daniel Daniel Daniel Daniel Daniel Daniel Daniel Daniel Daniel Daniel Daniel Daniel Daniel Daniel Daniel Daniel Daniel Daniel Daniel Daniel Daniel Daniel Daniel \n"
     ]
    }
   ],
   "source": [
    "print('Daniel '*250)"
   ]
  },
  {
   "cell_type": "code",
   "execution_count": 5,
   "metadata": {},
   "outputs": [
    {
     "name": "stdout",
     "output_type": "stream",
     "text": [
      "Your answer is:  27 The computer took 4 guess(es)\n"
     ]
    }
   ],
   "source": [
    "guess=50\n",
    "numbers_guessed=0\n",
    "low = 0\n",
    "high = 100\n",
    "letter = ''\n",
    "print('What is your number between 0 and 100?')\n",
    "while letter!='e':\n",
    "    print(f'The computer guesses {guess}')\n",
    "    letter=input(f'The computer guesses {guess} \\nHigher, lower or exactly (h,l,e): ')\n",
    "    if letter=='h':\n",
    "        guess = int( ((high-low)/2))\n",
    "        \n",
    "        numbers_guessed += 1\n",
    "    elif letter=='l':\n",
    "        guess = int(guess/2)\n",
    "        numbers_guessed += 1\n",
    "    elif letter=='e':\n",
    "        print('Your answer is: ', guess,'The computer took', numbers_guessed, 'guess(es)')"
   ]
  }
 ],
 "metadata": {
  "kernelspec": {
   "display_name": "base",
   "language": "python",
   "name": "python3"
  },
  "language_info": {
   "codemirror_mode": {
    "name": "ipython",
    "version": 3
   },
   "file_extension": ".py",
   "mimetype": "text/x-python",
   "name": "python",
   "nbconvert_exporter": "python",
   "pygments_lexer": "ipython3",
   "version": "3.11.4"
  },
  "orig_nbformat": 4
 },
 "nbformat": 4,
 "nbformat_minor": 2
}
